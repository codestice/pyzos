{
 "cells": [
  {
   "cell_type": "code",
   "execution_count": 1,
   "metadata": {
    "collapsed": true
   },
   "outputs": [],
   "source": [
    "import os\n",
    "import sys\n",
    "from win32com.client.gencache import EnsureDispatch, EnsureModule\n",
    "from win32com.client import CastTo, constants"
   ]
  },
  {
   "cell_type": "markdown",
   "metadata": {},
   "source": [
    "http://www.zemax.com/support/resource-center/knowledgebase/how-to-build-and-optimize-a-singlet-using-zos-api"
   ]
  },
  {
   "cell_type": "code",
   "execution_count": null,
   "metadata": {
    "collapsed": true
   },
   "outputs": [],
   "source": []
  },
  {
   "cell_type": "code",
   "execution_count": 2,
   "metadata": {
    "collapsed": true
   },
   "outputs": [],
   "source": [
    "EnsureModule('ZOSAPI_Interfaces', 0, 1, 0)\n",
    "connect = EnsureDispatch('ZOSAPI.ZOSAPI_Connection')\n",
    "\n",
    "# TheApplication\n",
    "app = connect.CreateNewApplication()  # TheApplication\n",
    "\n",
    "# TheSystem\n",
    "osys = app.PrimarySystem  \n",
    "osys.New(False)\n",
    "samplesDir = app.SamplesDir\n",
    "file_out = os.path.join(samplesDir, 'Sequential', 'Ojbectives', \n",
    "                       'Single Lens Example wizard+EFFL.zmx')\n",
    "osys.SaveAs(file_out)\n",
    "\n",
    "# Aperture\n",
    "osys_data = osys.SystemData \n",
    "osys_data.Aperture.ApertureValue = 40\n",
    "\n",
    "# Fields\n",
    "osys_data.Fields.AddField(0, 5.0, 1.0);\n",
    "\n",
    "# Setting wavelength using wavelength preset\n",
    "osys_data.Wavelengths.SelectWavelengthPreset(constants.WavelengthPreset_d_0p587);\n",
    "\n",
    "# Lens data\n",
    "lde = osys.LDE\n",
    "lde.InsertNewSurfaceAt(1)\n",
    "lde.InsertNewSurfaceAt(1)\n",
    "surf1 = lde.GetSurfaceAt(1)\n",
    "surf2 = lde.GetSurfaceAt(2)\n",
    "surf3 = lde.GetSurfaceAt(3)\n",
    "surf1.Thickness = 10.0\n",
    "surf1.Comment = 'front of lens'\n",
    "surf1.Material = 'N-BK7'\n",
    "surf2.Thickness = 50.0\n",
    "surf2.Comment = 'rear of lens'\n",
    "surf3.Thickness = 350.0\n",
    "surf3.Comment = 'Stop is free to move'\n",
    "\n",
    "# Setting solves - Made thickness and radii variable\n",
    "surf1.ThicknessCell.MakeSolveVariable()\n",
    "surf2.RadiusCell.MakeSolveVariable()\n",
    "surf2.ThicknessCell.MakeSolveVariable()\n",
    "surf3.ThicknessCell.MakeSolveVariable()\n",
    "\n",
    "# Setting up the default merit function \n",
    "mfe = osys.MFE\n",
    "wizard = mfe.SEQOptimizationWizard\n",
    "wizard.Type = 0          # RMS\n",
    "wizard.Data = 1          # Spot Radius\n",
    "wizard.Reference = 0     # Centroid\n",
    "wizard.Ring = 2          # 3 Rings\n",
    "wizard.Arm = 0           # 6 Arms\n",
    "wizard.IsGlassUsed = True\n",
    "wizard.GlassMin = 3\n",
    "wizard.GlassMax = 15\n",
    "wizard.GlassEdge = 3\n",
    "wizard.IsAirUsed = True\n",
    "wizard.AirMin = 0.5\n",
    "wizard.AirMax = 1000\n",
    "wizard.AirEdge = 0.5\n",
    "wizard.IsAssumeAxialSymmetryUsed = True\n",
    "wizard.CommonSettings.OK()\n",
    "\n",
    "operand1 = mfe.InsertNewOperandAt(1)\n",
    "operand1.ChangeType(constants.MeritOperandType_EFFL)\n",
    "operand1.Target = 400.0\n",
    "operand1.Weight = 1.0\n",
    "\n",
    "# Local optimization\n",
    "local_opt = osys.Tools.OpenLocalOptimization()\n",
    "local_opt.Algorithm = constants.OptimizationAlgorithm_DampedLeastSquares\n",
    "local_opt.Cycles = constants.OptimizationCycles_Automatic\n",
    "local_opt.NumberOfCores = 8\n",
    "base_tool = CastTo(local_opt, 'ISystemTool')\n",
    "base_tool.RunAndWaitForCompletion()\n",
    "base_tool.Close()\n",
    "\n",
    "# save\n",
    "osys.Save()\n",
    "app.CloseApplication()\n",
    "del app"
   ]
  },
  {
   "cell_type": "code",
   "execution_count": 19,
   "metadata": {
    "collapsed": false
   },
   "outputs": [],
   "source": []
  },
  {
   "cell_type": "code",
   "execution_count": 17,
   "metadata": {
    "collapsed": true
   },
   "outputs": [],
   "source": []
  },
  {
   "cell_type": "code",
   "execution_count": 24,
   "metadata": {
    "collapsed": false
   },
   "outputs": [
    {
     "data": {
      "text/plain": [
       "win32com.gen_py.EA433010-2BAC-43C4-857C-7AEAC4A8CCE0x0x1x0.ILocalOptimization.ILocalOptimization"
      ]
     },
     "execution_count": 24,
     "metadata": {},
     "output_type": "execute_result"
    }
   ],
   "source": [
    "type(local_opt)"
   ]
  },
  {
   "cell_type": "code",
   "execution_count": 27,
   "metadata": {
    "collapsed": false
   },
   "outputs": [
    {
     "data": {
      "text/plain": [
       "['CLSID', 'coclass_clsid']"
      ]
     },
     "execution_count": 27,
     "metadata": {},
     "output_type": "execute_result"
    }
   ],
   "source": [
    "# Methods of local_opt\n",
    "[each for each in dir(local_opt) if not each.startswith('_')]"
   ]
  },
  {
   "cell_type": "code",
   "execution_count": 28,
   "metadata": {
    "collapsed": false
   },
   "outputs": [
    {
     "ename": "AttributeError",
     "evalue": "'<win32com.gen_py.ZOSAPI_Interfaces.ILocalOptimization instance at 0x108227888>' object has no attribute 'RunAndWaitForCompletion'",
     "output_type": "error",
     "traceback": [
      "\u001b[1;31m---------------------------------------------------------------------------\u001b[0m",
      "\u001b[1;31mAttributeError\u001b[0m                            Traceback (most recent call last)",
      "\u001b[1;32m<ipython-input-28-3e525d526a54>\u001b[0m in \u001b[0;36m<module>\u001b[1;34m()\u001b[0m\n\u001b[1;32m----> 1\u001b[1;33m \u001b[0mlocal_opt\u001b[0m\u001b[1;33m.\u001b[0m\u001b[0mRunAndWaitForCompletion\u001b[0m\u001b[1;33m(\u001b[0m\u001b[1;33m)\u001b[0m\u001b[1;33m\u001b[0m\u001b[0m\n\u001b[0m",
      "\u001b[1;32mC:\\Users\\Indranil\\WinPython-64bit-3.5.1.1\\python-3.5.1.amd64\\lib\\site-packages\\win32com\\client\\__init__.py\u001b[0m in \u001b[0;36m__getattr__\u001b[1;34m(self, attr)\u001b[0m\n\u001b[0;32m    463\u001b[0m                 \u001b[0margs\u001b[0m\u001b[1;33m=\u001b[0m\u001b[0mself\u001b[0m\u001b[1;33m.\u001b[0m\u001b[0m_prop_map_get_\u001b[0m\u001b[1;33m.\u001b[0m\u001b[0mget\u001b[0m\u001b[1;33m(\u001b[0m\u001b[0mattr\u001b[0m\u001b[1;33m)\u001b[0m\u001b[1;33m\u001b[0m\u001b[0m\n\u001b[0;32m    464\u001b[0m                 \u001b[1;32mif\u001b[0m \u001b[0margs\u001b[0m \u001b[1;32mis\u001b[0m \u001b[1;32mNone\u001b[0m\u001b[1;33m:\u001b[0m\u001b[1;33m\u001b[0m\u001b[0m\n\u001b[1;32m--> 465\u001b[1;33m                         \u001b[1;32mraise\u001b[0m \u001b[0mAttributeError\u001b[0m\u001b[1;33m(\u001b[0m\u001b[1;34m\"'%s' object has no attribute '%s'\"\u001b[0m \u001b[1;33m%\u001b[0m \u001b[1;33m(\u001b[0m\u001b[0mrepr\u001b[0m\u001b[1;33m(\u001b[0m\u001b[0mself\u001b[0m\u001b[1;33m)\u001b[0m\u001b[1;33m,\u001b[0m \u001b[0mattr\u001b[0m\u001b[1;33m)\u001b[0m\u001b[1;33m)\u001b[0m\u001b[1;33m\u001b[0m\u001b[0m\n\u001b[0m\u001b[0;32m    466\u001b[0m                 \u001b[1;32mreturn\u001b[0m \u001b[0mself\u001b[0m\u001b[1;33m.\u001b[0m\u001b[0m_ApplyTypes_\u001b[0m\u001b[1;33m(\u001b[0m\u001b[1;33m*\u001b[0m\u001b[0margs\u001b[0m\u001b[1;33m)\u001b[0m\u001b[1;33m\u001b[0m\u001b[0m\n\u001b[0;32m    467\u001b[0m \u001b[1;33m\u001b[0m\u001b[0m\n",
      "\u001b[1;31mAttributeError\u001b[0m: '<win32com.gen_py.ZOSAPI_Interfaces.ILocalOptimization instance at 0x108227888>' object has no attribute 'RunAndWaitForCompletion'"
     ]
    }
   ],
   "source": [
    "# Also, if we try to access these methods .....\n",
    "local_opt.RunAndWaitForCompletion()"
   ]
  },
  {
   "cell_type": "markdown",
   "metadata": {},
   "source": [
    "From above it sees that `ILocalOptimization` interface doesn't have any methods! Actually, this is because of the way the Python COM interface handles inherience. As it turns out, `ILocalOptimization` is inherited from `ISystemTool` interface (so ideally, we should have be able to access all the inherited methods like run(), close(), etc., directly, but it seems that the Python COM interface cannot do it transparently). Therefore, we need to cast the derived calss object `ILocalOptimization` to its base class object `ISystemTool` to get access to those methods. "
   ]
  },
  {
   "cell_type": "code",
   "execution_count": 30,
   "metadata": {
    "collapsed": true
   },
   "outputs": [],
   "source": []
  },
  {
   "cell_type": "code",
   "execution_count": 18,
   "metadata": {
    "collapsed": false
   },
   "outputs": [
    {
     "data": {
      "text/plain": [
       "True"
      ]
     },
     "execution_count": 18,
     "metadata": {},
     "output_type": "execute_result"
    }
   ],
   "source": []
  },
  {
   "cell_type": "code",
   "execution_count": 32,
   "metadata": {
    "collapsed": false
   },
   "outputs": [
    {
     "data": {
      "text/plain": [
       "True"
      ]
     },
     "execution_count": 32,
     "metadata": {},
     "output_type": "execute_result"
    }
   ],
   "source": []
  },
  {
   "cell_type": "markdown",
   "metadata": {},
   "source": [
    "Analyses"
   ]
  },
  {
   "cell_type": "code",
   "execution_count": 40,
   "metadata": {
    "collapsed": true
   },
   "outputs": [],
   "source": [
    "ana = osys.Analyses"
   ]
  },
  {
   "cell_type": "code",
   "execution_count": 41,
   "metadata": {
    "collapsed": true
   },
   "outputs": [],
   "source": [
    "fft_mtf_ana = ana.New_FftMtf()"
   ]
  },
  {
   "cell_type": "code",
   "execution_count": 42,
   "metadata": {
    "collapsed": false
   },
   "outputs": [
    {
     "data": {
      "text/plain": [
       "win32com.gen_py.EA433010-2BAC-43C4-857C-7AEAC4A8CCE0x0x1x0.IA_.IA_"
      ]
     },
     "execution_count": 42,
     "metadata": {},
     "output_type": "execute_result"
    }
   ],
   "source": [
    "type(fft_mtf_ana)"
   ]
  },
  {
   "cell_type": "markdown",
   "metadata": {},
   "source": [
    "The object returned by `ana.New_FftMtf()` is `IA_` the base interface for all analysis window."
   ]
  },
  {
   "cell_type": "code",
   "execution_count": 43,
   "metadata": {
    "collapsed": false
   },
   "outputs": [
    {
     "data": {
      "text/plain": [
       "['Apply',\n",
       " 'ApplyAndWaitForCompletion',\n",
       " 'CLSID',\n",
       " 'Close',\n",
       " 'GetResults',\n",
       " 'GetSettings',\n",
       " 'IsRunning',\n",
       " 'Release_2',\n",
       " 'Terminate',\n",
       " 'ToFile',\n",
       " 'WaitForCompletion',\n",
       " 'coclass_clsid']"
      ]
     },
     "execution_count": 43,
     "metadata": {},
     "output_type": "execute_result"
    }
   ],
   "source": [
    "# Methods of fft_mtf_ana\n",
    "[each for each in dir(fft_mtf_ana) if not each.startswith('_')]"
   ]
  },
  {
   "cell_type": "code",
   "execution_count": 46,
   "metadata": {
    "collapsed": false
   },
   "outputs": [
    {
     "data": {
      "text/plain": [
       "['StatusMessages',\n",
       " 'Title',\n",
       " 'HasAnalysisSpecificSettings',\n",
       " 'GetAnalysisName',\n",
       " 'AnalysisType']"
      ]
     },
     "execution_count": 46,
     "metadata": {},
     "output_type": "execute_result"
    }
   ],
   "source": [
    "# properties of fft_mtf_ana\n",
    "list(fft_mtf_ana._prop_map_get_.keys())"
   ]
  },
  {
   "cell_type": "code",
   "execution_count": 47,
   "metadata": {
    "collapsed": true
   },
   "outputs": [],
   "source": [
    "# Get the settings for the current analysis\n",
    "ana_settings = fft_mtf_ana.GetSettings()"
   ]
  },
  {
   "cell_type": "code",
   "execution_count": 48,
   "metadata": {
    "collapsed": false
   },
   "outputs": [
    {
     "data": {
      "text/plain": [
       "win32com.gen_py.EA433010-2BAC-43C4-857C-7AEAC4A8CCE0x0x1x0.IAS_.IAS_"
      ]
     },
     "execution_count": 48,
     "metadata": {},
     "output_type": "execute_result"
    }
   ],
   "source": [
    "type(ana_settings)"
   ]
  },
  {
   "cell_type": "markdown",
   "metadata": {},
   "source": [
    "The method `fft_mtf_ana.GetSettings()` returns `IAS_` Interface which is the base class for all analysis settings interfaces "
   ]
  },
  {
   "cell_type": "code",
   "execution_count": 49,
   "metadata": {
    "collapsed": false
   },
   "outputs": [
    {
     "data": {
      "text/plain": [
       "['CLSID',\n",
       " 'Load',\n",
       " 'LoadFrom',\n",
       " 'ModifySettings',\n",
       " 'Reset',\n",
       " 'Save',\n",
       " 'SaveTo',\n",
       " 'Verify',\n",
       " 'coclass_clsid']"
      ]
     },
     "execution_count": 49,
     "metadata": {},
     "output_type": "execute_result"
    }
   ],
   "source": [
    "# Methods of ana_settings\n",
    "[each for each in dir(ana_settings) if not each.startswith('_')]"
   ]
  },
  {
   "cell_type": "code",
   "execution_count": 50,
   "metadata": {
    "collapsed": false
   },
   "outputs": [
    {
     "data": {
      "text/plain": [
       "[]"
      ]
     },
     "execution_count": 50,
     "metadata": {},
     "output_type": "execute_result"
    }
   ],
   "source": [
    "# properties of ana_settings\n",
    "list(ana_settings._prop_map_get_.keys())"
   ]
  },
  {
   "cell_type": "code",
   "execution_count": 6,
   "metadata": {
    "collapsed": false
   },
   "outputs": [
    {
     "data": {
      "text/plain": [
       "5"
      ]
     },
     "execution_count": 6,
     "metadata": {},
     "output_type": "execute_result"
    }
   ],
   "source": [
    "# Handling constants\n",
    "\n",
    "#app.LicenseStatus\n",
    "#constants.LicenseStatusType_PremiumEdition\n",
    "# Setting wavelength with wavelength preset\n",
    "constants.WavelengthPreset_d_0p587"
   ]
  },
  {
   "cell_type": "markdown",
   "metadata": {},
   "source": [
    "However there is actually a `IAS_FftMtf` Interface that "
   ]
  },
  {
   "cell_type": "code",
   "execution_count": 51,
   "metadata": {
    "collapsed": true
   },
   "outputs": [],
   "source": [
    "ana_mtf_settings = CastTo(ana_settings, 'IAS_FftMtf')"
   ]
  },
  {
   "cell_type": "code",
   "execution_count": 52,
   "metadata": {
    "collapsed": false
   },
   "outputs": [
    {
     "data": {
      "text/plain": [
       "0.0"
      ]
     },
     "execution_count": 52,
     "metadata": {},
     "output_type": "execute_result"
    }
   ],
   "source": [
    "ana_mtf_settings.MaximumFrequency"
   ]
  },
  {
   "cell_type": "code",
   "execution_count": 53,
   "metadata": {
    "collapsed": true
   },
   "outputs": [],
   "source": [
    "ana_mtf_settings.MaximumFrequency = 50"
   ]
  },
  {
   "cell_type": "code",
   "execution_count": null,
   "metadata": {
    "collapsed": true
   },
   "outputs": [],
   "source": []
  },
  {
   "cell_type": "code",
   "execution_count": null,
   "metadata": {
    "collapsed": false
   },
   "outputs": [],
   "source": [
    "EnsureModule('ZOSAPI_Interfaces', 0, 1, 0)\n",
    "connect = EnsureDispatch('ZOSAPI.ZOSAPI_Connection')\n",
    "\n",
    "# TheApplication\n",
    "app = connect.CreateNewApplication()  # TheApplication\n",
    "\n",
    "# TheSystem\n",
    "osys = app.PrimarySystem  "
   ]
  },
  {
   "cell_type": "code",
   "execution_count": null,
   "metadata": {
    "collapsed": true
   },
   "outputs": [],
   "source": []
  },
  {
   "cell_type": "code",
   "execution_count": null,
   "metadata": {
    "collapsed": true
   },
   "outputs": [],
   "source": []
  }
 ],
 "metadata": {
  "kernelspec": {
   "display_name": "Python 3",
   "language": "python",
   "name": "python3"
  },
  "language_info": {
   "codemirror_mode": {
    "name": "ipython",
    "version": 3
   },
   "file_extension": ".py",
   "mimetype": "text/x-python",
   "name": "python",
   "nbconvert_exporter": "python",
   "pygments_lexer": "ipython3",
   "version": "3.5.1"
  }
 },
 "nbformat": 4,
 "nbformat_minor": 0
}
